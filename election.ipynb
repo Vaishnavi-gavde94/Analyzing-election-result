{
  "nbformat": 4,
  "nbformat_minor": 0,
  "metadata": {
    "colab": {
      "provenance": [],
      "authorship_tag": "ABX9TyMFbG/FVza1SgRdyQ+95oYV",
      "include_colab_link": true
    },
    "kernelspec": {
      "name": "python3",
      "display_name": "Python 3"
    },
    "language_info": {
      "name": "python"
    }
  },
  "cells": [
    {
      "cell_type": "markdown",
      "metadata": {
        "id": "view-in-github",
        "colab_type": "text"
      },
      "source": [
        "<a href=\"https://colab.research.google.com/github/Vaishnavi-gavde94/Analyzing-election-result/blob/main/election.ipynb\" target=\"_parent\"><img src=\"https://colab.research.google.com/assets/colab-badge.svg\" alt=\"Open In Colab\"/></a>"
      ]
    },
    {
      "cell_type": "code",
      "execution_count": 1,
      "metadata": {
        "id": "sL5zecfWknui"
      },
      "outputs": [],
      "source": [
        "import pandas as pd"
      ]
    },
    {
      "cell_type": "code",
      "source": [
        "data={\n",
        "    'Constituency':['A', 'B', 'C','A', 'B', 'C','A', 'B', 'C' ],\n",
        "    'Party':['Party A', 'Party B', 'Party C','Party A', 'Party B', 'Party C','Party A', 'Party B', 'Party C',],\n",
        "    'Candidate':['Candidate X', 'Candidate Y', 'Candidate Z', 'Candidate p', 'Candidate Q', 'Candidate R', 'Candidate S', 'Candidate T', 'Candidate U'],\n",
        "    'Votes':[15000, 12000, 18000, 13000, 10000, 11000, 17000, 14000, 16000]\n",
        "}\n",
        "df=pd.DataFrame(data)"
      ],
      "metadata": {
        "id": "bs09sr4smebd"
      },
      "execution_count": 2,
      "outputs": []
    },
    {
      "cell_type": "code",
      "source": [
        "total_votes_by_party=df.groupby('Party')['Votes'].sum()\n",
        "print(\"total votes by party: \\n\", total_votes_by_party)"
      ],
      "metadata": {
        "colab": {
          "base_uri": "https://localhost:8080/"
        },
        "id": "UXhfmxaxoKAL",
        "outputId": "d0d493b1-6307-4b98-a554-62a1e9a87edc"
      },
      "execution_count": 3,
      "outputs": [
        {
          "output_type": "stream",
          "name": "stdout",
          "text": [
            "total votes by party: \n",
            " Party\n",
            "Party A    45000\n",
            "Party B    36000\n",
            "Party C    45000\n",
            "Name: Votes, dtype: int64\n"
          ]
        }
      ]
    },
    {
      "cell_type": "code",
      "source": [
        "def get_winning_party(x):\n",
        "  return x.loc[x['Votes'].idxmax(), 'Party']"
      ],
      "metadata": {
        "id": "rcKPOaB_otsg"
      },
      "execution_count": 4,
      "outputs": []
    },
    {
      "cell_type": "code",
      "source": [
        "winning_party_by_constituency=df.groupby('Constituency').apply(get_winning_party)\n",
        "print(\"\\n Winning party by constituency: \\n\", winning_party_by_constituency)"
      ],
      "metadata": {
        "colab": {
          "base_uri": "https://localhost:8080/"
        },
        "id": "fR9sEZSFpE9N",
        "outputId": "c899739c-87e9-4c14-b7f4-52ab6500ba3c"
      },
      "execution_count": 5,
      "outputs": [
        {
          "output_type": "stream",
          "name": "stdout",
          "text": [
            "\n",
            " Winning party by constituency: \n",
            " Constituency\n",
            "A    Party A\n",
            "B    Party B\n",
            "C    Party C\n",
            "dtype: object\n"
          ]
        },
        {
          "output_type": "stream",
          "name": "stderr",
          "text": [
            "<ipython-input-5-d26e91c4f637>:1: DeprecationWarning: DataFrameGroupBy.apply operated on the grouping columns. This behavior is deprecated, and in a future version of pandas the grouping columns will be excluded from the operation. Either pass `include_groups=False` to exclude the groupings or explicitly select the grouping columns after groupby to silence this warning.\n",
            "  winning_party_by_constituency=df.groupby('Constituency').apply(get_winning_party)\n"
          ]
        }
      ]
    },
    {
      "cell_type": "code",
      "source": [
        "overall_winner=total_votes_by_party.idxmax()\n",
        "print(\"\\n Overall election winner: \", overall_winner)"
      ],
      "metadata": {
        "colab": {
          "base_uri": "https://localhost:8080/"
        },
        "id": "8eRIEt5gpo_j",
        "outputId": "05cc8c51-064a-4e90-8130-d948242c1b57"
      },
      "execution_count": 6,
      "outputs": [
        {
          "output_type": "stream",
          "name": "stdout",
          "text": [
            "\n",
            " Overall election winner:  Party A\n"
          ]
        }
      ]
    },
    {
      "cell_type": "code",
      "source": [
        "total_votes=df['Votes'].sum()\n",
        "df['Vote share(%)']=(df['Votes']/total_votes)*100\n",
        "print(\"\\n Vote share percentages: \\n\", df)\n"
      ],
      "metadata": {
        "colab": {
          "base_uri": "https://localhost:8080/"
        },
        "id": "sHAEHY4Hp4Al",
        "outputId": "b4320d2a-d544-4a2c-de89-ff18cebac2f4"
      },
      "execution_count": 7,
      "outputs": [
        {
          "output_type": "stream",
          "name": "stdout",
          "text": [
            "\n",
            " Vote share percentages: \n",
            "   Constituency    Party    Candidate  Votes  Vote share(%)\n",
            "0            A  Party A  Candidate X  15000      11.904762\n",
            "1            B  Party B  Candidate Y  12000       9.523810\n",
            "2            C  Party C  Candidate Z  18000      14.285714\n",
            "3            A  Party A  Candidate p  13000      10.317460\n",
            "4            B  Party B  Candidate Q  10000       7.936508\n",
            "5            C  Party C  Candidate R  11000       8.730159\n",
            "6            A  Party A  Candidate S  17000      13.492063\n",
            "7            B  Party B  Candidate T  14000      11.111111\n",
            "8            C  Party C  Candidate U  16000      12.698413\n"
          ]
        }
      ]
    },
    {
      "cell_type": "code",
      "source": [
        "def close_contest(x):\n",
        "  vote_counts=x['Votes'].values\n",
        "  if len(vote_counts)>1:\n",
        "    vote_counts.sort()\n",
        "    margin=(vote_counts[-1]- vote_counts[-2])/ vote_counts[-1]*100\n",
        "    return margin < 12.0\n",
        "  else:\n",
        "      return False\n",
        "\n",
        "close_constituencies=df.groupby('Constituency').filter(close_contest)['Constituency'].unique()\n",
        "print(\"\\n Constituency with close contest:\", close_constituencies)\n"
      ],
      "metadata": {
        "colab": {
          "base_uri": "https://localhost:8080/"
        },
        "id": "YXsn4652qkJf",
        "outputId": "5ac2638d-e7b8-47eb-adbf-4c7295a2fa80"
      },
      "execution_count": 15,
      "outputs": [
        {
          "output_type": "stream",
          "name": "stdout",
          "text": [
            "\n",
            " Constituency with close contest: ['A' 'C']\n"
          ]
        }
      ]
    }
  ]
}